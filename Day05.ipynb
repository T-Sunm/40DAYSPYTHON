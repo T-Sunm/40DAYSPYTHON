{
 "cells": [
  {
   "cell_type": "code",
   "execution_count": 24,
   "metadata": {},
   "outputs": [
    {
     "name": "stdout",
     "output_type": "stream",
     "text": [
      "[1, 2, 3, 4, 5]\n",
      "[1, 3, 5, 7, 9]\n",
      "55\n"
     ]
    }
   ],
   "source": [
    "lst_data = [1,2,3,4,5,6,7,8,9,10]\n",
    "\n",
    "def first_5_elements(lst_data) :\n",
    "    result =lst_data[0:5]\n",
    "    return result\n",
    "\n",
    "def lst_even_number(lst_data):\n",
    "    copy_lst = [data for data in lst_data if(data % 2) !=0]\n",
    "    return copy_lst\n",
    "def sum_lst(lst_data):\n",
    "    result =0\n",
    "    for i in lst_data:\n",
    "        result+=i\n",
    "    return result\n",
    "\n",
    "print(first_5_elements(lst_data))\n",
    "print(lst_even_number(lst_data))\n",
    "print(sum_lst(lst_data))\n",
    "\n",
    "\n"
   ]
  }
 ],
 "metadata": {
  "kernelspec": {
   "display_name": "40daysPython_env",
   "language": "python",
   "name": "python3"
  },
  "language_info": {
   "codemirror_mode": {
    "name": "ipython",
    "version": 3
   },
   "file_extension": ".py",
   "mimetype": "text/x-python",
   "name": "python",
   "nbconvert_exporter": "python",
   "pygments_lexer": "ipython3",
   "version": "3.10.13"
  }
 },
 "nbformat": 4,
 "nbformat_minor": 2
}
