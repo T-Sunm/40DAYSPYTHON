{
 "cells": [
  {
   "cell_type": "markdown",
   "metadata": {},
   "source": []
  },
  {
   "cell_type": "code",
   "execution_count": 4,
   "metadata": {},
   "outputs": [
    {
     "name": "stdout",
     "output_type": "stream",
     "text": [
      "Bộ Tài chính Thái Lan cho biết nước này sẽ tung các chính sách mới hỗ trợ thị trường nhà đất để góp phần vực dậy nền kinh tế.\n",
      "\n",
      "Bộ tài chính Thái Lan dự kiến đề xuất với nội các chính phủ giảm phí chuyển quyền sở hữu từ 2% xuống 0,01% cho các ngôi nhà trị giá đến 7 triệu baht (190.891 USD). Cùng đó, giảm thuế với người muốn xây nhà và ưu đãi cho vay mua nhà với những người có thu nhập thấp.\n",
      "\n",
      "Cơ quan này cũng sẽ đề xuất sửa đổi các quy định liên quan đến quyền sở hữu nhà của người nước ngoài. Trong đó, dự kiến kéo dài thời gian thuê từ 30 lên 99 năm cũng như cho phép người nước ngoài mua một số loại nhà ở.\n",
      "\n",
      "Hãng dữ liệu trực tuyến Statista (Đức) ước tính quy mô thị trường bất động sản Thái Lan sẽ đạt giá trị 2.510 tỷ USD năm nay. Trong đó, phân khúc nhà ở giữ vị trí thống lĩnh, với giá trị dự kiến là 2.080 tỷ USD.\n",
      "\n",
      "Năm ngoái, số lượng chuyển nhượng nhà ở trên toàn quốc đạt tổng cộng 366.825 căn, trị giá 1.050 tỷ baht (28,6 tỷ USD) giảm lần lượt là 6,6% và 1,7%, theo Trung tâm Thông tin Bất động sản Thái Lan (REIC).\n",
      "\n",
      "Một góc Bangkok với sông Chao Phraya ở giữa vào tháng 9/2023. Ảnh: Anh Kỳ\n",
      "\n",
      "Vichai Viratkapan, Quyền tổng giám đốc REIC dự báo số lượng và giá trị chuyển nhượng nhà ở trên toàn quốc năm nay sẽ tăng lần lượt 1,8% và 3,9% lên 373.360 căn, trị giá 1.090 tỷ baht (29,7 tỷ USD).\n",
      "\n",
      "Dự báo này dựa trên giả định lạm phát từ 1-2% và lãi suất trung bình của 6 ngân hàng lớn là 6,8-7%. \"Nếu tăng trưởng kinh tế thấp hơn dự kiến, 2024 sẽ là năm thứ hai liên tiếp lượng chuyển nhượng nhà ở giảm cả về số lượng và giá trị\", ông nói.\n",
      "\n",
      "Theo công ty công nghệ địa ốc PropertyGuru (Singapore), lĩnh vực bất động sản đóng góp khoảng 10% vào GDP Thái Lan. Do đó, những chậm trễ này trên thị trường có thể cản trở sự phục hồi sau đại dịch của đất nước.\n",
      "\n",
      "Đáng chú ý, người mua nước ngoài, chủ yếu đến từ Trung Quốc và Nga, đang có tầm nhìn dài hạn và xem xét các yếu tố như lãi suất và các chính sách ưu đãi trong quyết định đầu tư của họ.\n",
      "\n",
      "Thủ tướng Srettha Thavisin hôm 8/4 nhắc lại rằng nền kinh tế cần các biện pháp kích thích lớn. Ông dự báo tốc độ tăng trưởng có thể dưới 1% trong quý I/2024, sau mức tăng trưởng 1,7% vào quý IV/2023.\n",
      "\n",
      "Anh Kỳ (Reuters, Bangkok Post)\n",
      "{'data:image/gif;base64,R0lGODlhAQABAAAAACH5BAEKAAEALAAAAAABAAEAAAICTAEAOw==', 'https://i2-vnexpress.vnecdn.net/2024/04/09/img-5889-1712600105-1712600127-9161-1712600288.jpg?w=1200&h=0&q=100&dpr=1&fit=crop&s=luU_PmNQo6iU1cXvucGseA', 'https://s1.vnecdn.net/vnexpress/restruct/c/v2629/v2_2019/pc/images/graphics/menu-myvne.svg', 'https://s1.vnecdn.net/vnexpress/restruct/i/v874/v2_2019/pc/graphics/logo.svg'}\n"
     ]
    }
   ],
   "source": [
    "from newspaper import Article\n",
    "\n",
    "# Khởi tạo đối tượng Article với URL cung cấp\n",
    "article = Article('https://vnexpress.net/thai-lan-se-tung-loat-chinh-sach-kich-cau-nha-o-4731948.html')\n",
    "\n",
    "# Tải nội dung bài viết\n",
    "article.download()\n",
    "\n",
    "# Phân tích nội dung bài viết\n",
    "article.parse()\n",
    "\n",
    "# In ra nội dung bài viết\n",
    "print(article.text)\n",
    "\n",
    "#lấy toàn bộ ảnh bài báo\n",
    "print(article.images)\n",
    "\n"
   ]
  },
  {
   "cell_type": "code",
   "execution_count": 17,
   "metadata": {},
   "outputs": [
    {
     "name": "stdout",
     "output_type": "stream",
     "text": [
      "[('Tôi', 'NNP'), ('thích', 'NN'), ('học', 'NN'), ('AI', 'NNP'), ('và', 'NN'), ('Toán', 'NNP')]\n"
     ]
    },
    {
     "name": "stderr",
     "output_type": "stream",
     "text": [
      "[nltk_data] Downloading package averaged_perceptron_tagger to\n",
      "[nltk_data]     C:\\Users\\ASUS\\AppData\\Roaming\\nltk_data...\n",
      "[nltk_data]   Package averaged_perceptron_tagger is already up-to-\n",
      "[nltk_data]       date!\n"
     ]
    }
   ],
   "source": [
    "import nltk \n",
    "from nltk.tokenize import word_tokenize\n",
    "\n",
    "\n",
    "# nltk.pos_tag cần một bộ phân loại đã được huấn luyện trước để xác định từ loại cho từng từ trong câu. Gói averaged_perceptron_tagger chứa mô hình Perceptron đã được huấn luyện trước, cùng với bộ dữ liệu cần thiết để thực hiện công việc này.\n",
    "\n",
    "nltk.download('averaged_perceptron_tagger')\n",
    "data = \"Tôi thích học AI và Toán\"\n",
    "#Bước 1 : Tokenization data\n",
    "tokenization = word_tokenize(data)\n",
    "\n",
    "result = nltk.pos_tag(tokenization)\n",
    "\n",
    "print(result)"
   ]
  },
  {
   "cell_type": "code",
   "execution_count": 24,
   "metadata": {},
   "outputs": [
    {
     "name": "stdout",
     "output_type": "stream",
     "text": [
      "Bộ Tài chính Thái Lan cho biết nước này sẽ tung các chính sách mới hỗ trợ thị trường nhà đất để góp phần vực dậy nền kinh tế.\n",
      "Bộ tài chính Thái Lan dự kiến đề xuất với nội các chính phủ giảm phí chuyển quyền sở hữu từ 2% xuống 0,01% cho các ngôi nhà trị giá đến 7 triệu baht (190.891 USD).\n",
      "Cùng đó, giảm thuế với người muốn xây nhà và ưu đãi cho vay mua nhà với những người có thu nhập thấp.\n",
      "Trong đó, phân khúc nhà ở giữ vị trí thống lĩnh, với giá trị dự kiến là 2.080 tỷ USD.\n",
      "\"Nếu tăng trưởng kinh tế thấp hơn dự kiến, 2024 sẽ là năm thứ hai liên tiếp lượng chuyển nhượng nhà ở giảm cả về số lượng và giá trị\", ông nói.\n"
     ]
    }
   ],
   "source": [
    "\n",
    "article = Article('https://vnexpress.net/thai-lan-se-tung-loat-chinh-sach-kich-cau-nha-o-4731948.html')\n",
    "# Tải nội dung bài viết\n",
    "article.download()\n",
    "\n",
    "# Phân tích nội dung bài viết\n",
    "article.parse()\n",
    "\n",
    "\n",
    "\"\"\"Khi bạn gọi article.nlp(), bạn đang kích hoạt thư viện để phân tích và trích xuất thông tin có giá trị từ bài viết, bao gồm:\n",
    "\n",
    "1.Tóm tắt bài viết: newspaper tự động tạo ra một bản tóm tắt ngắn gọn của bài báo.\n",
    "\n",
    "2 .Trích xuất từ khóa: Nó tìm kiếm và trích xuất các từ khóa chính từ bài báo, thường là những từ có tần suất xuất hiện cao và có ý nghĩa trong ngữ cảnh của bài viết.\n",
    "\n",
    "3.Phân tích cảm xúc: Một số phiên bản của newspaper có thể đưa ra phân tích cảm xúc của bài báo, dựa trên các từ và cụm từ được sử dụng trong bài viết.\n",
    "\n",
    "4.Xác định các tác giả: Phương thức cố gắng nhận diện và liệt kê tên của các tác giả bài báo.\"\"\"\n",
    "article.nlp()\n",
    "data = article.summary\n",
    "print(data)"
   ]
  },
  {
   "cell_type": "code",
   "execution_count": 25,
   "metadata": {},
   "outputs": [
    {
     "name": "stdout",
     "output_type": "stream",
     "text": [
      "[('Bộ', 'NNP'), ('Tài', 'NNP'), ('chính', 'NN'), ('Thái', 'NNP'), ('Lan', 'NNP'), ('cho', 'VBP'), ('biết', 'NN'), ('nước', 'NN'), ('này', 'JJ'), ('sẽ', 'NN'), ('tung', 'NN'), ('các', 'NN'), ('chính', 'NN'), ('sách', 'NN'), ('mới', 'NN'), ('hỗ', 'NN'), ('trợ', 'NN'), ('thị', 'NN'), ('trường', 'NN'), ('nhà', 'JJ'), ('đất', 'NNP'), ('để', 'NNP'), ('góp', 'NN'), ('phần', 'NN'), ('vực', 'NN'), ('dậy', 'NN'), ('nền', 'JJ'), ('kinh', 'NN'), ('tế', 'NN')]\n"
     ]
    }
   ],
   "source": [
    "dot_index= data.find('.')\n",
    "sliceText = data[0:dot_index]\n",
    "\n",
    "tokenization = word_tokenize(sliceText)\n",
    "\n",
    "result = nltk.pos_tag(tokenization)\n",
    "\n",
    "print(result)\n"
   ]
  }
 ],
 "metadata": {
  "kernelspec": {
   "display_name": "40daysPython_env",
   "language": "python",
   "name": "python3"
  },
  "language_info": {
   "codemirror_mode": {
    "name": "ipython",
    "version": 3
   },
   "file_extension": ".py",
   "mimetype": "text/x-python",
   "name": "python",
   "nbconvert_exporter": "python",
   "pygments_lexer": "ipython3",
   "version": "3.10.13"
  }
 },
 "nbformat": 4,
 "nbformat_minor": 2
}
