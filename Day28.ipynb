{
 "cells": [
  {
   "cell_type": "code",
   "execution_count": null,
   "metadata": {},
   "outputs": [],
   "source": [
    "! pip install translate\n",
    "! pip install googletrans==4.0.0rc1"
   ]
  },
  {
   "cell_type": "code",
   "execution_count": 9,
   "metadata": {},
   "outputs": [
    {
     "name": "stdout",
     "output_type": "stream",
     "text": [
      "Tiếng Anh: Suno AIツールは、可能な限り迅速にユーザーの注目を集めます\n",
      "いくつかのコマンドで曲を作成します。 V 3 Alphaの最新バージョンが導入されました\n",
      "2月末に発売され、1日10曲の無料版があります。\n",
      "Tiếng Nhật: Suno AI tool quickly gets users' attention when possible\n",
      "create a song with just a few commands. The latest version of V3 Alpha has just been introduced\n",
      "introduced at the end of February, there is a free version with 10 songs per day.\n"
     ]
    }
   ],
   "source": [
    "from translate import Translator\n",
    "\n",
    "sentence = \"\"\"Công cụ Suno AI nhanh chóng nhận được sự chú ý từ người dùng khi có thể\n",
    "tạo bài hát chỉ với vài câu lệnh. Phiên bản mới nhất V3 Alpha mới được giới\n",
    "thiệu cuối tháng 2, có bản miễn phí với 10 bài hát mỗi ngày.\"\"\"\n",
    "\n",
    "translator = Translator(from_lang=\"vi\", to_lang=\"ja\")\n",
    "translation = translator.translate(sentence)\n",
    "print(\"Tiếng Anh: \" + translation)\n",
    "translator = Translator( from_lang=\"vi\",to_lang=\"en\")\n",
    "translation = translator.translate(sentence)\n",
    "print(\"Tiếng Nhật: \" +translation)"
   ]
  },
  {
   "cell_type": "code",
   "execution_count": 14,
   "metadata": {},
   "outputs": [
    {
     "name": "stdout",
     "output_type": "stream",
     "text": [
      "Tiếng Anh: Suno AI tools quickly get attention from users when possible\n",
      "Create a song with just a few statements.The latest version of V3 alpha\n",
      "In the end of February, there is a free version with 10 songs a day.\n",
      "Tiếng Nhật: Suno AIツールは、可能であればユーザーからすぐに注目を集めます\n",
      "ほんのいくつかのステートメントで曲を作成します。V3 Alphaの最新バージョン\n",
      "2月末には、1日10曲の無料バージョンがあります。\n"
     ]
    }
   ],
   "source": [
    "from googletrans import Translator\n",
    "\n",
    "#defined a translate object\n",
    "translate = Translator()\n",
    "\n",
    "#translate some text\n",
    "result = translate.translate(sentence,dest='en')\n",
    "print(f\"Tiếng Anh: {result.text}\")\n",
    "result = translate.translate(sentence,dest='ja')\n",
    "print(f\"Tiếng Nhật: {result.text}\")"
   ]
  }
 ],
 "metadata": {
  "kernelspec": {
   "display_name": "40daysPython_env",
   "language": "python",
   "name": "python3"
  },
  "language_info": {
   "codemirror_mode": {
    "name": "ipython",
    "version": 3
   },
   "file_extension": ".py",
   "mimetype": "text/x-python",
   "name": "python",
   "nbconvert_exporter": "python",
   "pygments_lexer": "ipython3",
   "version": "3.10.13"
  }
 },
 "nbformat": 4,
 "nbformat_minor": 2
}
