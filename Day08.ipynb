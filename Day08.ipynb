{
 "cells": [
  {
   "cell_type": "code",
   "execution_count": null,
   "metadata": {},
   "outputs": [],
   "source": [
    "shopping_list = [\"Cà rốt\" , \"Táo\" ,\"Sữa\"]\n",
    "for index,item in enumerate(shopping_list,start=1):\n",
    "    print(f\"{index} . {item}\")"
   ]
  },
  {
   "cell_type": "code",
   "execution_count": 9,
   "metadata": {},
   "outputs": [
    {
     "name": "stdout",
     "output_type": "stream",
     "text": [
      "Sữa được tìm thấy ở hàng 1 và cột 3\n",
      "Táo được tìm thấy ở hàng 2 và cột 2\n",
      "Cà rốt được tìm thấy ở hàng 3 và cột 1\n"
     ]
    }
   ],
   "source": [
    "foodList = [[\"Bơ\" , \"Pizza\" ,\"Sữa\"],[\"Xúc xích\" , \"Táo\" ,\"Kem\"],[\"Cà rốt\" , \"Bánh dâu\" ,\"Cupcake\"]]\n",
    "search_items=[\"Cà rốt\",\"Táo\",\"Sữa\"]\n",
    "\n",
    "for row,item in enumerate(foodList,start=1):\n",
    "    for column,subItem in enumerate(item,start=1):\n",
    "        if subItem in search_items:\n",
    "            print(f\"{subItem} được tìm thấy ở hàng {row} và cột {column}\")"
   ]
  }
 ],
 "metadata": {
  "kernelspec": {
   "display_name": "40daysPython_env",
   "language": "python",
   "name": "python3"
  },
  "language_info": {
   "codemirror_mode": {
    "name": "ipython",
    "version": 3
   },
   "file_extension": ".py",
   "mimetype": "text/x-python",
   "name": "python",
   "nbconvert_exporter": "python",
   "pygments_lexer": "ipython3",
   "version": "3.10.13"
  }
 },
 "nbformat": 4,
 "nbformat_minor": 2
}
