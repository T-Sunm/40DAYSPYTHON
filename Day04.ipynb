{
 "cells": [
  {
   "cell_type": "code",
   "execution_count": 2,
   "metadata": {},
   "outputs": [
    {
     "name": "stdout",
     "output_type": "stream",
     "text": [
      "Minh is a great teacher!\n"
     ]
    }
   ],
   "source": [
    "def print_name(name):\n",
    "   result = f\"{name} is a great teacher!\" \n",
    "   return result\n",
    "name = input(\"Nhập tên bạn muốn: \")\n",
    "\n",
    "print(print_name(name))"
   ]
  },
  {
   "cell_type": "code",
   "execution_count": 4,
   "metadata": {},
   "outputs": [
    {
     "name": "stdout",
     "output_type": "stream",
     "text": [
      "Title case: Ms Taylor\n",
      "Upper case: MS TAYLOR\n",
      "Lower case: ms taylor\n"
     ]
    }
   ],
   "source": [
    "name = \"ms Taylor\"\n",
    "nameTitle = name.title()\n",
    "nameUpper = name.upper()\n",
    "nameLower = name.lower()\n",
    "print(f\"Title case: {nameTitle}\")\n",
    "print(f\"Upper case: {nameUpper}\")\n",
    "print(f\"Lower case: {nameLower}\")"
   ]
  },
  {
   "cell_type": "code",
   "execution_count": null,
   "metadata": {},
   "outputs": [],
   "source": []
  }
 ],
 "metadata": {
  "kernelspec": {
   "display_name": "40daysPython_env",
   "language": "python",
   "name": "python3"
  },
  "language_info": {
   "codemirror_mode": {
    "name": "ipython",
    "version": 3
   },
   "file_extension": ".py",
   "mimetype": "text/x-python",
   "name": "python",
   "nbconvert_exporter": "python",
   "pygments_lexer": "ipython3",
   "version": "3.10.13"
  }
 },
 "nbformat": 4,
 "nbformat_minor": 2
}
