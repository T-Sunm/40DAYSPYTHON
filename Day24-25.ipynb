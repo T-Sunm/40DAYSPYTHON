{
 "cells": [
  {
   "cell_type": "code",
   "execution_count": null,
   "metadata": {},
   "outputs": [],
   "source": [
    "def my_func(signal):\n",
    "    var = True\n",
    "    while var:\n",
    "        var = False\n",
    "        for i in range(len(signal)-1):\n",
    "            if signal[i] > signal[i+1]:\n",
    "                signal[i] , signal[i+1] = signal[i+1],signal[i]\n",
    "                var = True\n",
    "\n",
    "mySignal = [1,0,0,1,1,1]\n",
    "my_func(mySignal)\n",
    "print(mySignal)"
   ]
  },
  {
   "cell_type": "code",
   "execution_count": 1,
   "metadata": {},
   "outputs": [
    {
     "data": {
      "text/plain": [
       "2.5"
      ]
     },
     "execution_count": 1,
     "metadata": {},
     "output_type": "execute_result"
    }
   ],
   "source": [
    "def my_function ( list_nums = [1 , 2 , 3, 4]) :\n",
    "    var = 0\n",
    "    for i in list_nums :\n",
    "        var += i\n",
    "    return var /len( list_nums )\n",
    "my_function ()"
   ]
  },
  {
   "cell_type": "code",
   "execution_count": 2,
   "metadata": {},
   "outputs": [
    {
     "name": "stdout",
     "output_type": "stream",
     "text": [
      "spring\n"
     ]
    }
   ],
   "source": [
    "space1 = \"It ’s sunny here !\"\n",
    "space2 = \"Is it hot here in the spring?\"\n",
    "space = space1 + space2\n",
    "print (space [ -7: -1])"
   ]
  },
  {
   "cell_type": "code",
   "execution_count": 3,
   "metadata": {},
   "outputs": [
    {
     "ename": "TypeError",
     "evalue": "'<' not supported between instances of 'str' and 'int'",
     "output_type": "error",
     "traceback": [
      "\u001b[1;31m---------------------------------------------------------------------------\u001b[0m",
      "\u001b[1;31mTypeError\u001b[0m                                 Traceback (most recent call last)",
      "Cell \u001b[1;32mIn[3], line 2\u001b[0m\n\u001b[0;32m      1\u001b[0m data \u001b[38;5;241m=\u001b[39m [\u001b[38;5;241m1\u001b[39m , \u001b[38;5;241m2\u001b[39m , \u001b[38;5;241m3\u001b[39m , \u001b[38;5;124m\"\u001b[39m\u001b[38;5;124mI\u001b[39m\u001b[38;5;124m\"\u001b[39m, \u001b[38;5;124m\"\u001b[39m\u001b[38;5;124mam\u001b[39m\u001b[38;5;124m\"\u001b[39m, \u001b[38;5;124m\"\u001b[39m\u001b[38;5;124mAI\u001b[39m\u001b[38;5;124m\"\u001b[39m]\n\u001b[1;32m----> 2\u001b[0m new_data \u001b[38;5;241m=\u001b[39m \u001b[38;5;28;43msorted\u001b[39;49m\u001b[43m \u001b[49m\u001b[43m(\u001b[49m\u001b[43m \u001b[49m\u001b[43mdata\u001b[49m\u001b[43m \u001b[49m\u001b[43m)\u001b[49m\n\u001b[0;32m      3\u001b[0m \u001b[38;5;28mprint\u001b[39m ( new_data )\n",
      "\u001b[1;31mTypeError\u001b[0m: '<' not supported between instances of 'str' and 'int'"
     ]
    }
   ],
   "source": [
    "data = [1 , 2 , 3 , \"I\", \"am\", \"AI\"]\n",
    "new_data = sorted ( data )\n",
    "print ( new_data )"
   ]
  },
  {
   "cell_type": "code",
   "execution_count": 5,
   "metadata": {},
   "outputs": [
    {
     "name": "stdout",
     "output_type": "stream",
     "text": [
      "['D', 'u', 'o', ',', ' ', 'c', 'm', 'e', 'h', 'r', '!']\n"
     ]
    }
   ],
   "source": [
    "my_string = \"Duo, come here !\"\n",
    "\n",
    "my_bag_of_word = []\n",
    "for element in my_string :\n",
    " if element not in my_bag_of_word :\n",
    "    my_bag_of_word . append ( element )\n",
    "print ( my_bag_of_word )"
   ]
  },
  {
   "cell_type": "code",
   "execution_count": 6,
   "metadata": {},
   "outputs": [
    {
     "name": "stdout",
     "output_type": "stream",
     "text": [
      "1  0  0  \n",
      "0  1  0  \n",
      "0  0  1  \n"
     ]
    }
   ],
   "source": [
    "def my_function ( x ) :\n",
    " for i in range ( x ) :\n",
    "     for j in range ( x ) :\n",
    "        if i == j :\n",
    "            print (\"1 \", end =\" \")\n",
    "        else :\n",
    "             print (\"0 \", end =\" \")\n",
    "     print ()\n",
    "\n",
    "my_function (3)"
   ]
  },
  {
   "cell_type": "code",
   "execution_count": 7,
   "metadata": {},
   "outputs": [
    {
     "name": "stdout",
     "output_type": "stream",
     "text": [
      "[{'friends ': ['Tom ', 'Mike ', 'Taylor ']}, 2002, 2099, 3000, 'moon ']\n"
     ]
    }
   ],
   "source": [
    "def my_function ( my_data ):\n",
    " result = []\n",
    " for element in data :\n",
    "     if element not in result :\n",
    "        result . append ( element )\n",
    " return result\n",
    "\n",
    "data = [ {'friends ':[ 'Tom ', 'Mike ', 'Taylor ']} , 2002 , 2099 , 3000 , 'moon ']\n",
    "print ( my_function ( data ) )"
   ]
  },
  {
   "cell_type": "code",
   "execution_count": null,
   "metadata": {},
   "outputs": [],
   "source": [
    "def my_function (x , y ) :\n",
    " x.extend(y)\n",
    " return x"
   ]
  },
  {
   "cell_type": "code",
   "execution_count": 11,
   "metadata": {},
   "outputs": [
    {
     "name": "stdout",
     "output_type": "stream",
     "text": [
      "['I', 'do', 'my', 'homework', 'every', 'evening']\n"
     ]
    }
   ],
   "source": [
    "my_exam = \"I do my   homework every evening !\"\n",
    "#split rỗng là tách mà không cần biết có bao nhiêu khoảng trắng,nó tách ra phần tử lun\n",
    "print ( my_exam . strip ('!') . split () )"
   ]
  },
  {
   "cell_type": "code",
   "execution_count": 12,
   "metadata": {},
   "outputs": [
    {
     "name": "stdout",
     "output_type": "stream",
     "text": [
      "\n",
      " Returns the square of the number entered .\n",
      " The number entered must be an integer\n",
      " \n"
     ]
    }
   ],
   "source": [
    "def square ( num ) :\n",
    " '''\n",
    " Returns the square of the number entered .\n",
    " The number entered must be an integer\n",
    " '''\n",
    " return num ** 2\n",
    "\n",
    "print ( square.__doc__ )"
   ]
  }
 ],
 "metadata": {
  "kernelspec": {
   "display_name": "40daysPython_env",
   "language": "python",
   "name": "python3"
  },
  "language_info": {
   "codemirror_mode": {
    "name": "ipython",
    "version": 3
   },
   "file_extension": ".py",
   "mimetype": "text/x-python",
   "name": "python",
   "nbconvert_exporter": "python",
   "pygments_lexer": "ipython3",
   "version": "3.10.13"
  }
 },
 "nbformat": 4,
 "nbformat_minor": 2
}
