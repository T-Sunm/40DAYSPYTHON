{
 "cells": [
  {
   "cell_type": "code",
   "execution_count": 1,
   "metadata": {},
   "outputs": [
    {
     "name": "stdout",
     "output_type": "stream",
     "text": [
      "[1 2 3]\n",
      "tensor([1, 2, 3])\n",
      "tf.Tensor([1 2 3], shape=(3,), dtype=int32)\n"
     ]
    }
   ],
   "source": [
    "# @title Câu 1\n",
    "import numpy as np                  # Import Numpy\n",
    "import tensorflow as tf             # Import TensorFlow\n",
    "import torch\n",
    "\n",
    "lst_data = [1,2,3]\n",
    "\n",
    "print(np.array(lst_data))\n",
    "print(torch.tensor(lst_data))\n",
    "print(tf.constant(lst_data))\n"
   ]
  },
  {
   "cell_type": "code",
   "execution_count": 2,
   "metadata": {},
   "outputs": [
    {
     "name": "stdout",
     "output_type": "stream",
     "text": [
      "Hình dạng của mảng:  (3, 3)\n",
      "Kiểu dữ liệu của mảng:  int32\n",
      "Loại của mảng:  <class 'numpy.ndarray'>\n",
      "Mảng \n",
      " [[1 2 3]\n",
      " [4 5 6]\n",
      " [7 8 9]]\n",
      "\n",
      "\n",
      "Hình dạng của mảng:  torch.Size([3, 3])\n",
      "Kiểu dữ liệu của mảng:  torch.float32\n",
      "Loại của mảng:  <class 'torch.Tensor'>\n",
      "Thiết bị lưu trữ tensor : cpu\n",
      "\n",
      "\n",
      "Hình dạng của mảng:  (3, 3)\n",
      "Kiểu dữ liệu của mảng:  <dtype: 'float32'>\n",
      "Loại của mảng:  <class 'tensorflow.python.framework.ops.EagerTensor'>\n",
      "Thiết bị lưu trữ tensor : /job:localhost/replica:0/task:0/device:CPU:0\n"
     ]
    }
   ],
   "source": [
    "# @title Câu 2\n",
    "lst_data_matrix = [\n",
    "    [1,2,3],\n",
    "    [4,5,6],\n",
    "    [7,8,9]\n",
    "]\n",
    "\n",
    "tensor = np.array(lst_data_matrix)\n",
    "print(\"Hình dạng của mảng: \",tensor.shape)  # In ra shape của tensor\n",
    "print(\"Kiểu dữ liệu của mảng: \",tensor.dtype)  # In ra kiểu dữ liệu của tensor\n",
    "print(\"Loại của mảng: \",type(tensor)) # In ra loại tensor\n",
    "print(\"Mảng \\n\",tensor)\n",
    "print(\"\\n\")\n",
    "tensor = torch.tensor(lst_data_matrix, dtype=torch.float32)\n",
    "print(\"Hình dạng của mảng: \",tensor.shape)  # In ra shape của tensor\n",
    "print(\"Kiểu dữ liệu của mảng: \",tensor.dtype)  # In ra kiểu dữ liệu của tensor\n",
    "print(\"Loại của mảng: \",type(tensor)) # In ra loại tensor\n",
    "print(\"Thiết bị lưu trữ tensor :\", tensor.device) # In ra thiết bị lưu trữ tensor\n",
    "print(\"\\n\")\n",
    "tensor = tf.constant(lst_data_matrix, dtype=tf.float32)\n",
    "print(\"Hình dạng của mảng: \",tensor.shape)  # In ra shape của tensor\n",
    "print(\"Kiểu dữ liệu của mảng: \",tensor.dtype)  # In ra kiểu dữ liệu của tensor\n",
    "print(\"Loại của mảng: \",type(tensor)) # In ra loại tensor\n",
    "print(\"Thiết bị lưu trữ tensor :\", tensor.device) # In ra thiết bị lưu trữ tensor"
   ]
  }
 ],
 "metadata": {
  "kernelspec": {
   "display_name": "40daysPython_env",
   "language": "python",
   "name": "python3"
  },
  "language_info": {
   "codemirror_mode": {
    "name": "ipython",
    "version": 3
   },
   "file_extension": ".py",
   "mimetype": "text/x-python",
   "name": "python",
   "nbconvert_exporter": "python",
   "pygments_lexer": "ipython3",
   "version": "3.10.13"
  }
 },
 "nbformat": 4,
 "nbformat_minor": 2
}
