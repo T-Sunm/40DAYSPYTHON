{
 "cells": [
  {
   "cell_type": "code",
   "execution_count": 17,
   "metadata": {},
   "outputs": [
    {
     "ename": "IndexError",
     "evalue": "list index out of range",
     "output_type": "error",
     "traceback": [
      "\u001b[1;31m---------------------------------------------------------------------------\u001b[0m",
      "\u001b[1;31mIndexError\u001b[0m                                Traceback (most recent call last)",
      "Cell \u001b[1;32mIn[17], line 7\u001b[0m\n\u001b[0;32m      5\u001b[0m \u001b[38;5;28;01mfor\u001b[39;00m row \u001b[38;5;129;01min\u001b[39;00m \u001b[38;5;28mrange\u001b[39m(\u001b[38;5;28mlen\u001b[39m(list_2d)):\n\u001b[0;32m      6\u001b[0m     arrRow\u001b[38;5;241m=\u001b[39m[]\n\u001b[1;32m----> 7\u001b[0m     arrRow\u001b[38;5;241m.\u001b[39mappend(\u001b[43marrRow\u001b[49m\u001b[43m[\u001b[49m\u001b[43mrow\u001b[49m\u001b[43m]\u001b[49m[\u001b[38;5;241m0\u001b[39m])\n\u001b[0;32m      8\u001b[0m     arrRow\u001b[38;5;241m.\u001b[39mappend(arrRow[row][\u001b[38;5;241m2\u001b[39m])\n\u001b[0;32m      9\u001b[0m     lst_sub_data\u001b[38;5;241m.\u001b[39mappend(arrRow)\n",
      "\u001b[1;31mIndexError\u001b[0m: list index out of range"
     ]
    }
   ],
   "source": [
    "list_2d = [[1,2,3],\n",
    "           [4,5,6],\n",
    "           [7,8,9]]\n",
    "lst_sub_data =[]\n",
    "for row in range(len(list_2d)):\n",
    "    arrRow=[]\n",
    "    arrRow.append(list_2d[row][0])\n",
    "    arrRow.append(list_2d[row][2])\n",
    "    lst_sub_data.append(arrRow)\n",
    "    \n",
    "print(lst_sub_data)"
   ]
  },
  {
   "cell_type": "code",
   "execution_count": 16,
   "metadata": {},
   "outputs": [
    {
     "name": "stdout",
     "output_type": "stream",
     "text": [
      "Tổng: [[3, 6, 9], [5, 8, 11], [8, 8, 10]]\n",
      "Hiệu: [[-1, -2, -3], [3, 2, 1], [6, 8, 8]]\n",
      "Dot Product: [[7, 10, 19], [19, 31, 55], [31, 52, 91]]\n"
     ]
    }
   ],
   "source": [
    "mat_a=[[1,2,3],\n",
    "       [4,5,6],\n",
    "       [7,8,9]]\n",
    "mat_b=[[2,4,6],\n",
    "       [1,3,5],\n",
    "       [1,0,1]]\n",
    "sum_mat=[]\n",
    "minus_mat=[]\n",
    "multi_mat=[]\n",
    "for row in range(len(mat_a)):\n",
    "    arrRowSum=[]\n",
    "    arrRowMinus=[]\n",
    "    for collumn in range(len(mat_a[row])):\n",
    "        arrRowSum.append(mat_a[row][collumn]+mat_b[row][collumn])\n",
    "        arrRowMinus.append(mat_a[row][collumn]-mat_b[row][collumn])\n",
    "    sum_mat.append(arrRowSum)\n",
    "    minus_mat.append(arrRowMinus)\n",
    "\n",
    "for rowA in range(len(mat_a)):\n",
    "    arrRowMulti=[]\n",
    "    for collumnA in range(len(mat_a[rowA])):\n",
    "        sum = 0\n",
    "        for rowB in range(len(mat_b)):\n",
    "            sum+=(mat_a[rowA][rowB] * mat_b[rowB][collumnA])\n",
    "        arrRowMulti.append(sum)\n",
    "    multi_mat.append(arrRowMulti)\n",
    "\n",
    "print(f\"Tổng: {sum_mat}\")\n",
    "print(f\"Hiệu: {minus_mat}\")\n",
    "print(f\"Dot Product: {multi_mat}\")\n"
   ]
  }
 ],
 "metadata": {
  "kernelspec": {
   "display_name": "40daysPython_env",
   "language": "python",
   "name": "python3"
  },
  "language_info": {
   "codemirror_mode": {
    "name": "ipython",
    "version": 3
   },
   "file_extension": ".py",
   "mimetype": "text/x-python",
   "name": "python",
   "nbconvert_exporter": "python",
   "pygments_lexer": "ipython3",
   "version": "3.10.13"
  }
 },
 "nbformat": 4,
 "nbformat_minor": 2
}
