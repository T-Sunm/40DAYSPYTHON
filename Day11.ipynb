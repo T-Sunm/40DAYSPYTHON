{
 "cells": [
  {
   "cell_type": "code",
   "execution_count": 14,
   "metadata": {},
   "outputs": [
    {
     "name": "stdout",
     "output_type": "stream",
     "text": [
      "[1, 2, 0, 1, 1, 0, 0]\n"
     ]
    }
   ],
   "source": [
    "corpus = [\"Tôi thích môn Toán\",\"Tôi thích AI\",\"Tôi thích âm nhạc\"]\n",
    "vector =[]\n",
    "\n",
    "for i in range(len(corpus)):\n",
    "    corpus[i] = corpus[i].split(\" \")\n",
    "    for subItem in corpus[i]:\n",
    "        if subItem not in vector:\n",
    "            vector.append(subItem)\n",
    "\n",
    "sample=\"Tôi thích AI thích Toán\"\n",
    "sample_word = sample.split(\" \")\n",
    "# tao mảng count 0 tương ứng với vector\n",
    "sample_vec = [0]*len(vector)\n",
    "for data in sample_word:\n",
    "    sample_vec[vector.index(data)]+=1\n",
    "print(sample_vec)"
   ]
  },
  {
   "cell_type": "code",
   "execution_count": null,
   "metadata": {},
   "outputs": [],
   "source": []
  }
 ],
 "metadata": {
  "kernelspec": {
   "display_name": "40daysPython_env",
   "language": "python",
   "name": "python3"
  },
  "language_info": {
   "codemirror_mode": {
    "name": "ipython",
    "version": 3
   },
   "file_extension": ".py",
   "mimetype": "text/x-python",
   "name": "python",
   "nbconvert_exporter": "python",
   "pygments_lexer": "ipython3",
   "version": "3.10.13"
  }
 },
 "nbformat": 4,
 "nbformat_minor": 2
}
