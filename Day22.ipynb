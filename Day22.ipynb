{
 "cells": [
  {
   "cell_type": "code",
   "execution_count": 45,
   "metadata": {},
   "outputs": [
    {
     "name": "stdout",
     "output_type": "stream",
     "text": [
      "266\n",
      "32\n",
      "96\n"
     ]
    }
   ],
   "source": [
    "#câu 1\n",
    "import random \n",
    "import math\n",
    "\n",
    "def random_from_1_to_20():\n",
    "    # do hàm random này chạy max là 19.999 nên làm tròn xuống 19 + 1 là đủ 20\n",
    "    number = math.floor(random.random()*20)+1\n",
    "    return number\n",
    "\n",
    "\n",
    "def random_number_with_condition(total):\n",
    "    a=0\n",
    "    b=0\n",
    "    count = 0\n",
    "    random.seed(0)\n",
    "    while a+b != total:\n",
    "        a = random.randint(1,20)\n",
    "        b= random.randint(1,20)\n",
    "        count+=1\n",
    "        \n",
    "    return count\n",
    "\n",
    "print(random_number_with_condition(40))\n",
    "print(random_number_with_condition(20))\n",
    "print(random_number_with_condition(35))    \n"
   ]
  },
  {
   "cell_type": "code",
   "execution_count": 47,
   "metadata": {},
   "outputs": [
    {
     "name": "stdout",
     "output_type": "stream",
     "text": [
      "105\n",
      "102\n"
     ]
    }
   ],
   "source": [
    "#câu 2\n",
    "def find_divisible_number(a):\n",
    "    number =101\n",
    "    while number % a != 0:\n",
    "        number +=1\n",
    "    return number\n",
    "print(find_divisible_number(5))\n",
    "print(find_divisible_number(17))"
   ]
  },
  {
   "cell_type": "code",
   "execution_count": 56,
   "metadata": {},
   "outputs": [
    {
     "name": "stdout",
     "output_type": "stream",
     "text": [
      "1.4142135623746899\n",
      "1.7320508100147274\n"
     ]
    }
   ],
   "source": [
    "#câu 3\n",
    "def find_square_root(a):\n",
    "    EPSILON = 0.001\n",
    "    xn = a/2\n",
    "    xn_plus_1 = 0\n",
    "    while (True):\n",
    "        xn_plus_1 = (xn + (a/xn))/2\n",
    "        if(abs(xn - xn_plus_1) < EPSILON):\n",
    "            return xn_plus_1\n",
    "        else :\n",
    "            xn = xn_plus_1\n",
    "        \n",
    "\n",
    "print(find_square_root(2))\n",
    "print(find_square_root(3))"
   ]
  },
  {
   "cell_type": "code",
   "execution_count": 8,
   "metadata": {},
   "outputs": [
    {
     "name": "stdout",
     "output_type": "stream",
     "text": [
      "[0, 0, 1, 1, 1, 1]\n"
     ]
    }
   ],
   "source": []
  }
 ],
 "metadata": {
  "kernelspec": {
   "display_name": "40daysPython_env",
   "language": "python",
   "name": "python3"
  },
  "language_info": {
   "codemirror_mode": {
    "name": "ipython",
    "version": 3
   },
   "file_extension": ".py",
   "mimetype": "text/x-python",
   "name": "python",
   "nbconvert_exporter": "python",
   "pygments_lexer": "ipython3",
   "version": "3.10.13"
  }
 },
 "nbformat": 4,
 "nbformat_minor": 2
}
