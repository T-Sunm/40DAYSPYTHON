{
 "cells": [
  {
   "cell_type": "code",
   "execution_count": 14,
   "metadata": {},
   "outputs": [
    {
     "name": "stdout",
     "output_type": "stream",
     "text": [
      "   ID             NAME     PRICE\n",
      "0   2  Galaxy Z-Fold 5  50000000\n"
     ]
    }
   ],
   "source": [
    "import sqlite3\n",
    "import pandas as pd\n",
    "\"\"\"\n",
    "Tạo kết nối tới CSDL tên là database.sqlite\n",
    "nếu database.sqlite chưa tồn tại thì nó sẽ tự tạo mới \n",
    "\"\"\"\n",
    "connection = sqlite3.connect('database.sqlite',timeout=10)\n",
    "cursor = connection.cursor()\n",
    "\n",
    "#Tạo bảng product\n",
    "cursor.execute(\n",
    "    \"\"\"\n",
    "        CREATE TABLE PRODUCT(\n",
    "            ID INTEGER PRIMARY KEY,\n",
    "            NAME TEXT NOT NULL,\n",
    "            PRICE INTEGER NOT NULL  \n",
    "        )\n",
    "    \"\"\"\n",
    ")\n",
    "\n",
    "# câu 1\n",
    "cursor.execute(\n",
    "    \"\"\"\n",
    "        INSERT INTO PRODUCT(ID,NAME,PRICE) \n",
    "        VALUES\n",
    "            (1,'iPhone 15', 18000000),\n",
    "            (2,'Galaxy Z-Fold 5', 30000000);\n",
    "    \"\"\"\n",
    ")\n",
    "\n",
    "#câu 2 \n",
    "cursor.execute(\"\"\"\n",
    "    UPDATE PRODUCT\n",
    "    SET PRICE = 50000000\n",
    "    WHERE \n",
    "    1 = 1\n",
    "    AND NAME = 'Galaxy Z-Fold 5'\n",
    "\"\"\")\n",
    "# câu 3 \n",
    "cursor.execute(\"\"\"\n",
    "    DELETE FROM PRODUCT\n",
    "    WHERE \n",
    "    1 = 1\n",
    "    AND NAME = 'iPhone 15'\n",
    "\"\"\")\n",
    "\n",
    "\"\"\" Khi thực hiện thao tác INSERT/UPDATE/DELETE, khi thực hiện\n",
    "cursor.execute() trên cơ sở dữ liệu SQLite, những thay đổi này chỉ được lưu trữ\n",
    "tạm thời trong bộ nhớ. Nên chúng ta cần phải thực bước commit để lưu những\n",
    "thay đổi này vào CSDL, đảm bảo chúng được lưu trữ vĩnh viễn.\"\"\"\n",
    "connection.commit()\n",
    "data = pd.read_sql_query('SELECT * FROM PRODUCT',connection)\n",
    "print(data)\n"
   ]
  },
  {
   "cell_type": "code",
   "execution_count": null,
   "metadata": {},
   "outputs": [],
   "source": []
  }
 ],
 "metadata": {
  "kernelspec": {
   "display_name": "40daysPython_env",
   "language": "python",
   "name": "python3"
  },
  "language_info": {
   "codemirror_mode": {
    "name": "ipython",
    "version": 3
   },
   "file_extension": ".py",
   "mimetype": "text/x-python",
   "name": "python",
   "nbconvert_exporter": "python",
   "pygments_lexer": "ipython3",
   "version": "3.10.13"
  }
 },
 "nbformat": 4,
 "nbformat_minor": 2
}
