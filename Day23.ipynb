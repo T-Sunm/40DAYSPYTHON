{
 "cells": [
  {
   "cell_type": "code",
   "execution_count": 50,
   "metadata": {},
   "outputs": [],
   "source": [
    "import numpy as np\n",
    "import torch\n",
    "import tensorflow as tf"
   ]
  },
  {
   "cell_type": "code",
   "execution_count": 51,
   "metadata": {},
   "outputs": [
    {
     "name": "stdout",
     "output_type": "stream",
     "text": [
      "[0 1 2 3 4 5 6 7 8 9]\n",
      "tensor([0, 1, 2, 3, 4, 5, 6, 7, 8, 9])\n",
      "tf.Tensor([0 1 2 3 4 5 6 7 8 9], shape=(10,), dtype=int32)\n"
     ]
    }
   ],
   "source": [
    "# tạo mảng chứa giá trị tăng dần với khoảng cách cố định\n",
    "print(np.arange(0,10,1))\n",
    "print(torch.arange(0,10,1))\n",
    "print(tf.range(0,10,1))\n"
   ]
  },
  {
   "cell_type": "code",
   "execution_count": 52,
   "metadata": {},
   "outputs": [
    {
     "name": "stdout",
     "output_type": "stream",
     "text": [
      "[[1. 0. 0.]\n",
      " [0. 1. 0.]\n",
      " [0. 0. 1.]]\n",
      "tensor([[1., 0., 0.],\n",
      "        [0., 1., 0.],\n",
      "        [0., 0., 1.]])\n",
      "tf.Tensor(\n",
      "[[1. 0. 0.]\n",
      " [0. 1. 0.]\n",
      " [0. 0. 1.]], shape=(3, 3), dtype=float32)\n"
     ]
    }
   ],
   "source": [
    "# tạo ma trận đơn vị\n",
    "print(np.eye(3,3))\n",
    "print(torch.eye(3,3))\n",
    "print(tf.eye(3,3))"
   ]
  },
  {
   "cell_type": "code",
   "execution_count": 57,
   "metadata": {},
   "outputs": [
    {
     "name": "stdout",
     "output_type": "stream",
     "text": [
      "numpy:\n",
      "[[0.58801452 0.69910875 0.18815196 0.04380856]\n",
      " [0.20501895 0.10606287 0.72724014 0.67940052]\n",
      " [0.4738457  0.44829582 0.01910695 0.75259834]]\n",
      "[[ 5  1 -3  8]\n",
      " [-1 -4  0 -9]\n",
      " [-5  9 -6 -2]]\n",
      "\n",
      "\n",
      "pytorch:\n",
      "tensor([[0.5317, 0.8313, 0.9718, 0.1193],\n",
      "        [0.1669, 0.3495, 0.2150, 0.6201],\n",
      "        [0.4849, 0.7492, 0.1521, 0.5625]])\n",
      "tensor([[  1,   8,   0,  -2],\n",
      "        [ -9, -10,  -9,   0],\n",
      "        [ -3,  -7,  -4,   8]])\n",
      "\n",
      "\n",
      "tensorflow:\n",
      "tf.Tensor(\n",
      "[[0.90034294 0.19453335 0.36069036 0.66361904]\n",
      " [0.76605344 0.2159369  0.6261736  0.07380784]\n",
      " [0.22062695 0.934368   0.93327904 0.69267046]], shape=(3, 4), dtype=float32)\n",
      "tf.Tensor(\n",
      "[[-3 -7  9  3]\n",
      " [ 2 -5 -3 -5]\n",
      " [ 4 -3 -3  5]], shape=(3, 4), dtype=int32)\n"
     ]
    }
   ],
   "source": [
    "#tạo mảng với giá trị ngẫu nhiên từ 0->1\n",
    "#tạo mảng với giá trị ngẫu nhiên từ -10->10\n",
    "np.random.seed(2024)\n",
    "torch.manual_seed(2024)\n",
    "tf.random.set_seed(2024)\n",
    "shape= (3,4)\n",
    "\n",
    "# numpy\n",
    "print(\"numpy:\")\n",
    "arr_rand = np.random.rand(3,4)\n",
    "print(arr_rand)\n",
    "arr_rand = np.random.randint(low=-10,high=10,size=shape)\n",
    "print(arr_rand)\n",
    "print('\\n')\n",
    "\n",
    "#pytorch\n",
    "print(\"pytorch:\")\n",
    "arr_rand = torch.rand(3,4)\n",
    "print(arr_rand)\n",
    "arr_rand = torch.randint(low=-10,high=10,size=shape)\n",
    "print(arr_rand)\n",
    "print('\\n')\n",
    "\n",
    "#tensorflow\n",
    "print(\"tensorflow:\")\n",
    "arr_rand = tf.random.uniform((3,4),0,1,dtype=tf.float32)\n",
    "print(arr_rand)\n",
    "arr_rand = tf.random.uniform(shape,-10,10,dtype=tf.int32)\n",
    "print(arr_rand)"
   ]
  },
  {
   "cell_type": "code",
   "execution_count": 54,
   "metadata": {},
   "outputs": [
    {
     "name": "stdout",
     "output_type": "stream",
     "text": [
      "[[ 5  1 -3  8]\n",
      " [-1 -4  0 -9]\n",
      " [-5  9 -6 -2]]\n",
      "tensor([[  1,   8,   0,  -2],\n",
      "        [ -9, -10,  -9,   0],\n",
      "        [ -3,  -7,  -4,   8]])\n"
     ]
    }
   ],
   "source": [
    "#tạo mảng với giá trị ngẫu nhiên từ khoảng mình muốn\n",
    "\n",
    "\n",
    "\n",
    "\n",
    "\n",
    "\n",
    "\n",
    "\n",
    "\n"
   ]
  }
 ],
 "metadata": {
  "kernelspec": {
   "display_name": "40daysPython_env",
   "language": "python",
   "name": "python3"
  },
  "language_info": {
   "codemirror_mode": {
    "name": "ipython",
    "version": 3
   },
   "file_extension": ".py",
   "mimetype": "text/x-python",
   "name": "python",
   "nbconvert_exporter": "python",
   "pygments_lexer": "ipython3",
   "version": "3.10.13"
  }
 },
 "nbformat": 4,
 "nbformat_minor": 2
}
