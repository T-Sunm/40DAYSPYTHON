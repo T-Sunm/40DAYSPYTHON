{
 "cells": [
  {
   "cell_type": "code",
   "execution_count": 22,
   "metadata": {},
   "outputs": [
    {
     "name": "stdout",
     "output_type": "stream",
     "text": [
      "[1, 2, 3, 4, 5, 6, 7, 8, 9, 10]\n"
     ]
    }
   ],
   "source": [
    "lst_data = []\n",
    "for i in range(1,11):\n",
    "    lst_data.append(i)\n",
    "print(lst_data)\n"
   ]
  },
  {
   "cell_type": "code",
   "execution_count": 23,
   "metadata": {},
   "outputs": [
    {
     "name": "stdout",
     "output_type": "stream",
     "text": [
      "Median : 5.5\n"
     ]
    }
   ],
   "source": [
    "def get_mean(lst):\n",
    "    result = 0\n",
    "    length = len(lst)\n",
    "    sorted(lst,reverse=True)\n",
    "    if length % 2 !=0:\n",
    "        print((length +1)/2)\n",
    "        result = lst[round((length )/2)]\n",
    "    else:\n",
    "        result = (lst[round((length -1)/2)] + lst[round((length)/2)])/2\n",
    "    return result\n",
    "\n",
    "print(f\"Median : {get_mean(lst_data)}\")\n"
   ]
  },
  {
   "cell_type": "code",
   "execution_count": 25,
   "metadata": {},
   "outputs": [
    {
     "name": "stdout",
     "output_type": "stream",
     "text": [
      "[9, 7, 5, 3, 1]\n",
      "[9, 7, 5, 3, 1]\n"
     ]
    }
   ],
   "source": [
    "lst_odd_filter = []\n",
    "for data in lst_data :\n",
    "    if data % 2 != 0:\n",
    "        lst_odd_filter.append(data)\n",
    "lst_odd_filter_sort = sorted(lst_odd_filter,reverse=True)\n",
    "\n",
    "# c2\n",
    "\n",
    "print(sorted([data for data in lst_data if data % 2 != 0],reverse=True))\n",
    "print(lst_odd_filter_sort)"
   ]
  },
  {
   "cell_type": "code",
   "execution_count": null,
   "metadata": {},
   "outputs": [],
   "source": []
  }
 ],
 "metadata": {
  "kernelspec": {
   "display_name": "40daysPython_env",
   "language": "python",
   "name": "python3"
  },
  "language_info": {
   "codemirror_mode": {
    "name": "ipython",
    "version": 3
   },
   "file_extension": ".py",
   "mimetype": "text/x-python",
   "name": "python",
   "nbconvert_exporter": "python",
   "pygments_lexer": "ipython3",
   "version": "3.10.13"
  }
 },
 "nbformat": 4,
 "nbformat_minor": 2
}
