{
 "cells": [
  {
   "cell_type": "code",
   "execution_count": 7,
   "metadata": {},
   "outputs": [
    {
     "name": "stdout",
     "output_type": "stream",
     "text": [
      "Wake up\n"
     ]
    }
   ],
   "source": [
    "time = input(\"Input time : \").upper()\n",
    "if time == \"5 AM\":\n",
    "    print(\"Wake up\")\n",
    "elif time == \"6 AM\":\n",
    "    print(\"Yoga\")\n",
    "elif time == \"7 AM\":\n",
    "    print(\"Work\")\n",
    "else:\n",
    "    print(\"Do something else\")\n",
    "\n"
   ]
  },
  {
   "cell_type": "code",
   "execution_count": 9,
   "metadata": {},
   "outputs": [
    {
     "data": {
      "text/plain": [
       "'Wake up'"
      ]
     },
     "execution_count": 9,
     "metadata": {},
     "output_type": "execute_result"
    }
   ],
   "source": [
    "time = input(\"Input time : \").upper()\n",
    "todoList = {\"5 AM\":\"Wake up\",\n",
    "            \"6 AM\":\"Yoga\",\n",
    "            \"7 AM\":\"Work\"\n",
    "}\n",
    "# lấy giá trị dựa vào key , kh có thì trả về giá trị mặc định là Do something else\n",
    "todoList.get(time,\"Do something else\")"
   ]
  },
  {
   "cell_type": "code",
   "execution_count": 10,
   "metadata": {},
   "outputs": [
    {
     "name": "stdout",
     "output_type": "stream",
     "text": [
      "Wake up\n"
     ]
    }
   ],
   "source": [
    "time = input(\"Input time : \").upper()\n",
    "match time:\n",
    "    case \"5 AM\":\n",
    "        print(\"Wake up\")\n",
    "    case \"6 AM\":\n",
    "        print(\"Yoga\")\n",
    "    case \"7 AM\":\n",
    "        print(\"Work\")\n",
    "    case _:\n",
    "        print(\"Do something else\")"
   ]
  }
 ],
 "metadata": {
  "kernelspec": {
   "display_name": "40daysPython_env",
   "language": "python",
   "name": "python3"
  },
  "language_info": {
   "codemirror_mode": {
    "name": "ipython",
    "version": 3
   },
   "file_extension": ".py",
   "mimetype": "text/x-python",
   "name": "python",
   "nbconvert_exporter": "python",
   "pygments_lexer": "ipython3",
   "version": "3.10.13"
  }
 },
 "nbformat": 4,
 "nbformat_minor": 2
}
