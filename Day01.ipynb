{
 "cells": [
  {
   "cell_type": "code",
   "execution_count": 1,
   "metadata": {},
   "outputs": [
    {
     "name": "stdout",
     "output_type": "stream",
     "text": [
      "Giáp Thìn\n"
     ]
    }
   ],
   "source": [
    "def calculate_can_chi_calendar(year):\n",
    "\n",
    "  canList = ['Canh','Tân','Nhâm','Quý','Giáp','Ất','Bính','Đinh','Mậu','Kỷ']\n",
    "  chiList = ['Thân','Dậu','Tuất','Hợi','Tý','Sửu','Dần','Mão','Thìn','Tỵ','Ngọ','Mùi']\n",
    "  result = ''\n",
    "  can = year % 10\n",
    "  chi = year % 12\n",
    "  result += canList[can] + \" \"\n",
    "  result += chiList[chi]\n",
    "\n",
    "  return result\n",
    "year = input(\"Nhập năm bạn muốn: \")\n",
    "print(calculate_can_chi_calendar(int(year)))"
   ]
  }
 ],
 "metadata": {
  "kernelspec": {
   "display_name": "40daysPython_env",
   "language": "python",
   "name": "python3"
  },
  "language_info": {
   "codemirror_mode": {
    "name": "ipython",
    "version": 3
   },
   "file_extension": ".py",
   "mimetype": "text/x-python",
   "name": "python",
   "nbconvert_exporter": "python",
   "pygments_lexer": "ipython3",
   "version": "3.10.13"
  }
 },
 "nbformat": 4,
 "nbformat_minor": 2
}
