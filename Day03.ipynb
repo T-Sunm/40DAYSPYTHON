{
 "cells": [
  {
   "cell_type": "code",
   "execution_count": 8,
   "metadata": {},
   "outputs": [
    {
     "name": "stdout",
     "output_type": "stream",
     "text": [
      "Nhập các hệ số (a, b, c):\n",
      "Với a = 2.0 , b = 6.0 , c = 4.0 thì :\n",
      "Phương trình có 2 nghiệm phân biệt là x1 = -2.0 và x2 = -1.0\n"
     ]
    }
   ],
   "source": [
    "import math\n",
    "\n",
    "def quadratic_equation(a, b, c):\n",
    "    delta = b**2 - 4*a*c\n",
    "    result = {}\n",
    "    if a == 0:\n",
    "        if b == 0:\n",
    "            if c == 0 :\n",
    "                result['message'] = \"Phương trình có vô số nghiệm\"\n",
    "            else:\n",
    "                result['message'] = \"Phương trình vô nghiệm\"\n",
    "        else:\n",
    "            x = -c / b\n",
    "            result['message'] = f\"Phương trình có nghiệm x = {x}\"\n",
    "    else:\n",
    "        if delta > 0:\n",
    "            x1 = (-b - math.sqrt(delta)) / (2 * a)\n",
    "            x2 = (-b + math.sqrt(delta)) / (2 * a)\n",
    "            result['message'] = f\"Phương trình có 2 nghiệm phân biệt là x1 = {x1} và x2 = {x2}\"\n",
    "        elif delta == 0:\n",
    "            x = -b / (2 * a)\n",
    "            result['message'] = f\"Phương trình có nghiệm kép x1 = x2 = {x}\"\n",
    "        else:\n",
    "            result['message'] = \"Phương trình vô nghiệm\"\n",
    "    return result\n",
    "\n",
    "print(\"Nhập các hệ số (a, b, c):\")\n",
    "a, b, c = map(float, input().split(\",\"))\n",
    "print(f\"Với a = {a} , b = {b} , c = {c} thì :\")\n",
    "result = quadratic_equation(a, b, c)\n",
    "print(result['message'])\n"
   ]
  },
  {
   "cell_type": "code",
   "execution_count": null,
   "metadata": {},
   "outputs": [],
   "source": []
  }
 ],
 "metadata": {
  "kernelspec": {
   "display_name": "40daysPython_env",
   "language": "python",
   "name": "python3"
  },
  "language_info": {
   "codemirror_mode": {
    "name": "ipython",
    "version": 3
   },
   "file_extension": ".py",
   "mimetype": "text/x-python",
   "name": "python",
   "nbconvert_exporter": "python",
   "pygments_lexer": "ipython3",
   "version": "3.10.13"
  }
 },
 "nbformat": 4,
 "nbformat_minor": 2
}
