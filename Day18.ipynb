{
 "cells": [
  {
   "cell_type": "code",
   "execution_count": 21,
   "metadata": {},
   "outputs": [
    {
     "name": "stdout",
     "output_type": "stream",
     "text": [
      "['AI', 'listen', 'music']\n"
     ]
    }
   ],
   "source": [
    "stop_word = [\"I\",\"love\",\"and\",\"to\"]\n",
    "input = \"I love AI and listen to music\".split(\" \")\n",
    "\n",
    "ans = [ word for word in input if word not in stop_word ]\n",
    "print(ans)"
   ]
  },
  {
   "cell_type": "markdown",
   "metadata": {},
   "source": []
  },
  {
   "cell_type": "code",
   "execution_count": 22,
   "metadata": {},
   "outputs": [
    {
     "name": "stdout",
     "output_type": "stream",
     "text": [
      "Câu 1 : (2, 3);(3, 6)\n",
      "Câu 2 : Result_vector1=(5, 6) Result_vector2=(9, 18)\n",
      "Câu 3 : 3.1622776601683795\n",
      "Câu 4 : index=(1, 0)\n"
     ]
    }
   ],
   "source": [
    "import math\n",
    "\n",
    "my_tuple1=(2,3)\n",
    "my_tuple2=(3,6)\n",
    "\n",
    "Result_vector1=(my_tuple1[0]+my_tuple1[1],my_tuple1[0]*my_tuple1[1])\n",
    "Result_vector2=(my_tuple2[0]+my_tuple2[1],my_tuple2[0]*my_tuple2[1])\n",
    "\n",
    "distance=0\n",
    "for i in range(len(my_tuple1)):\n",
    "    distance += (my_tuple1[i]-my_tuple2[i])**2\n",
    "\n",
    "index = (my_tuple1.index(3),my_tuple2.index(3))\n",
    "\n",
    "print(f\"Câu 1 : {my_tuple1};{my_tuple2}\")\n",
    "print(f\"Câu 2 : Result_vector1={Result_vector1} Result_vector2={Result_vector2}\")\n",
    "print(f\"Câu 3 : {math.sqrt(distance)}\")\n",
    "print(f\"Câu 4 : index={index}\")\n"
   ]
  },
  {
   "cell_type": "code",
   "execution_count": null,
   "metadata": {},
   "outputs": [],
   "source": []
  }
 ],
 "metadata": {
  "kernelspec": {
   "display_name": "40daysPython_env",
   "language": "python",
   "name": "python3"
  },
  "language_info": {
   "codemirror_mode": {
    "name": "ipython",
    "version": 3
   },
   "file_extension": ".py",
   "mimetype": "text/x-python",
   "name": "python",
   "nbconvert_exporter": "python",
   "pygments_lexer": "ipython3",
   "version": "3.10.13"
  }
 },
 "nbformat": 4,
 "nbformat_minor": 2
}
