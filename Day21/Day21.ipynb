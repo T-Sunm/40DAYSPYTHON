{
 "cells": [
  {
   "cell_type": "code",
   "execution_count": 100,
   "metadata": {},
   "outputs": [
    {
     "name": "stdout",
     "output_type": "stream",
     "text": [
      "he who conquers himself is the mightiest warrior try not to become a man of success but rather become a man of value one man with courage makes a majority one secret of success in life is for a man to be ready for his opportunity when it comes the successful man will profit from his mistakes and try again in a different way a successful man is one who can lay a firm foundation with the bricks others have thrown at him success usually comes to those who are too busy looking for it we cannot solve problems with the kind of thinking we employed when we came up with them just one small positive thought in the morning can change your whole day you can get everything in life you want if you will just help enough other people get what they want\n"
     ]
    }
   ],
   "source": [
    "data =''\n",
    "\n",
    "with open(\"data.txt\",'r') as f:\n",
    "    data = f.read()\n",
    "# kh có text xuống hàng\n",
    "data = data.replace('\\n',' ').lower()\n",
    "    \n",
    "print(data)"
   ]
  },
  {
   "cell_type": "code",
   "execution_count": 101,
   "metadata": {},
   "outputs": [
    {
     "name": "stdout",
     "output_type": "stream",
     "text": [
      "['he', 'who', 'conquers', 'himself', 'is', 'the', 'mightiest', 'warrior', 'try', 'not', 'to', 'become', 'a', 'man', 'of', 'success', 'but', 'rather', 'become', 'a', 'man', 'of', 'value', 'one', 'man', 'with', 'courage', 'makes', 'a', 'majority', 'one', 'secret', 'of', 'success', 'in', 'life', 'is', 'for', 'a', 'man', 'to', 'be', 'ready', 'for', 'his', 'opportunity', 'when', 'it', 'comes', 'the', 'successful', 'man', 'will', 'profit', 'from', 'his', 'mistakes', 'and', 'try', 'again', 'in', 'a', 'different', 'way', 'a', 'successful', 'man', 'is', 'one', 'who', 'can', 'lay', 'a', 'firm', 'foundation', 'with', 'the', 'bricks', 'others', 'have', 'thrown', 'at', 'him', 'success', 'usually', 'comes', 'to', 'those', 'who', 'are', 'too', 'busy', 'looking', 'for', 'it', 'we', 'cannot', 'solve', 'problems', 'with', 'the', 'kind', 'of', 'thinking', 'we', 'employed', 'when', 'we', 'came', 'up', 'with', 'them', 'just', 'one', 'small', 'positive', 'thought', 'in', 'the', 'morning', 'can', 'change', 'your', 'whole', 'day', 'you', 'can', 'get', 'everything', 'in', 'life', 'you', 'want', 'if', 'you', 'will', 'just', 'help', 'enough', 'other', 'people', 'get', 'what', 'they', 'want']\n"
     ]
    }
   ],
   "source": [
    "distinct_words = data.split()\n",
    "count_words = {}\n",
    "count_least_data = []\n",
    "print(distinct_words)"
   ]
  },
  {
   "cell_type": "code",
   "execution_count": 102,
   "metadata": {},
   "outputs": [
    {
     "name": "stdout",
     "output_type": "stream",
     "text": [
      "[{'he': 1}, {'conquers': 1}, {'himself': 1}, {'mightiest': 1}, {'warrior': 1}, {'not': 1}, {'but': 1}, {'rather': 1}, {'value': 1}, {'courage': 1}, {'makes': 1}, {'majority': 1}, {'secret': 1}, {'be': 1}, {'ready': 1}, {'opportunity': 1}, {'profit': 1}, {'from': 1}, {'mistakes': 1}, {'and': 1}, {'again': 1}, {'different': 1}, {'way': 1}, {'lay': 1}, {'firm': 1}, {'foundation': 1}, {'bricks': 1}, {'others': 1}, {'have': 1}, {'thrown': 1}, {'at': 1}, {'him': 1}, {'usually': 1}, {'those': 1}, {'are': 1}, {'too': 1}, {'busy': 1}, {'looking': 1}, {'cannot': 1}, {'solve': 1}, {'problems': 1}, {'kind': 1}, {'thinking': 1}, {'employed': 1}, {'came': 1}, {'up': 1}, {'them': 1}, {'small': 1}, {'positive': 1}, {'thought': 1}, {'morning': 1}, {'change': 1}, {'your': 1}, {'whole': 1}, {'day': 1}, {'everything': 1}, {'if': 1}, {'help': 1}, {'enough': 1}, {'other': 1}, {'people': 1}, {'what': 1}, {'they': 1}]\n",
      " \"he\" is the least word \n",
      "\n",
      "[{'a': 7}]\n",
      " \"a\" is most frequen common word \n",
      "\n"
     ]
    }
   ],
   "source": [
    "count_least_data = []\n",
    "count_frequent_data = []\n",
    "for index,item in enumerate(distinct_words):\n",
    "    if item in count_words :\n",
    "        count_words[item] += 1\n",
    "    else:\n",
    "        count_words[item] = 1\n",
    "\n",
    "# tìm từ xuất hiện ít nhất\n",
    "for key,value in count_words.items():\n",
    "    if(value == 1):\n",
    "        count_least_data.append({key:value})\n",
    "\n",
    "#từ xuất hiện nhiều nhất\n",
    "max_word = max(count_words, key=count_words.get)\n",
    "for key,value in count_words.items():\n",
    "    if( value == count_words[max_word]):\n",
    "        count_frequent_data.append({key:value})\n",
    "\n",
    "# lấy tất cả key của obj lưu vào list \n",
    "least_wordKeys = list(count_least_data[0].keys())\n",
    "frequent_wordKeys = list(count_frequent_data[0].keys())\n",
    "\n",
    "print(count_least_data)\n",
    "print( f' \"{least_wordKeys[0]}\" is the least word \\n' ),\n",
    "print(count_frequent_data)\n",
    "print(f' \"{frequent_wordKeys[0]}\" is most frequen common word \\n')"
   ]
  },
  {
   "cell_type": "code",
   "execution_count": 103,
   "metadata": {},
   "outputs": [
    {
     "name": "stdout",
     "output_type": "stream",
     "text": [
      "['a', 'again', 'and', 'are', 'at', 'be', 'become', 'bricks', 'busy', 'but', 'came', 'can', 'cannot', 'change', 'comes', 'conquers', 'courage', 'day', 'different', 'employed', 'enough', 'everything', 'firm', 'for', 'foundation', 'from', 'get', 'have', 'he', 'help', 'him', 'himself', 'his', 'if', 'in', 'is', 'it', 'just', 'kind', 'lay', 'life', 'looking', 'majority', 'makes', 'man', 'mightiest', 'mistakes', 'morning', 'not', 'of', 'one', 'opportunity', 'other', 'others', 'people', 'positive', 'problems', 'profit', 'rather', 'ready', 'secret', 'small', 'solve', 'success', 'successful', 'the', 'them', 'they', 'thinking', 'those', 'thought', 'thrown', 'to', 'too', 'try', 'up', 'usually', 'value', 'want', 'warrior', 'way', 'we', 'what', 'when', 'who', 'whole', 'will', 'with', 'you', 'your']\n"
     ]
    }
   ],
   "source": [
    "distinct_words2 = set(word for word in data.split())\n",
    "distinct_words2 = list(distinct_words2)\n",
    "distinct_words2.sort() # sort sẽ sắp xếp theo AlphaB từng chữ cái đầu\n",
    "print(distinct_words2)\n"
   ]
  },
  {
   "cell_type": "code",
   "execution_count": 104,
   "metadata": {},
   "outputs": [
    {
     "name": "stdout",
     "output_type": "stream",
     "text": [
      "[7, 1, 1, 1, 1, 1, 2, 1, 1, 1, 1, 3, 1, 1, 2, 1, 1, 1, 1, 1, 1, 1, 1, 3, 1, 1, 2, 1, 1, 1, 1, 1, 2, 1, 4, 3, 2, 2, 1, 1, 2, 1, 1, 1, 6, 1, 1, 1, 1, 4, 4, 1, 1, 1, 1, 1, 1, 1, 1, 1, 1, 1, 1, 3, 2, 5, 1, 1, 1, 1, 1, 1, 3, 1, 2, 1, 1, 1, 2, 1, 1, 3, 1, 2, 3, 1, 2, 4, 3, 1]\n",
      "'a' in data is 7\n",
      "'again' in data is 1\n",
      "'and' in data is 1\n",
      "'are' in data is 1\n",
      "'at' in data is 1\n",
      "'be' in data is 1\n",
      "'become' in data is 2\n",
      "'bricks' in data is 1\n",
      "'busy' in data is 1\n",
      "'but' in data is 1\n",
      "'came' in data is 1\n",
      "'can' in data is 3\n",
      "'cannot' in data is 1\n",
      "'change' in data is 1\n",
      "'comes' in data is 2\n",
      "'conquers' in data is 1\n",
      "'courage' in data is 1\n",
      "'day' in data is 1\n",
      "'different' in data is 1\n",
      "'employed' in data is 1\n",
      "'enough' in data is 1\n",
      "'everything' in data is 1\n",
      "'firm' in data is 1\n",
      "'for' in data is 3\n",
      "'foundation' in data is 1\n",
      "'from' in data is 1\n",
      "'get' in data is 2\n",
      "'have' in data is 1\n",
      "'he' in data is 1\n",
      "'help' in data is 1\n",
      "'him' in data is 1\n",
      "'himself' in data is 1\n",
      "'his' in data is 2\n",
      "'if' in data is 1\n",
      "'in' in data is 4\n",
      "'is' in data is 3\n",
      "'it' in data is 2\n",
      "'just' in data is 2\n",
      "'kind' in data is 1\n",
      "'lay' in data is 1\n",
      "'life' in data is 2\n",
      "'looking' in data is 1\n",
      "'majority' in data is 1\n",
      "'makes' in data is 1\n",
      "'man' in data is 6\n",
      "'mightiest' in data is 1\n",
      "'mistakes' in data is 1\n",
      "'morning' in data is 1\n",
      "'not' in data is 1\n",
      "'of' in data is 4\n",
      "'one' in data is 4\n",
      "'opportunity' in data is 1\n",
      "'other' in data is 1\n",
      "'others' in data is 1\n",
      "'people' in data is 1\n",
      "'positive' in data is 1\n",
      "'problems' in data is 1\n",
      "'profit' in data is 1\n",
      "'rather' in data is 1\n",
      "'ready' in data is 1\n",
      "'secret' in data is 1\n",
      "'small' in data is 1\n",
      "'solve' in data is 1\n",
      "'success' in data is 3\n",
      "'successful' in data is 2\n",
      "'the' in data is 5\n",
      "'them' in data is 1\n",
      "'they' in data is 1\n",
      "'thinking' in data is 1\n",
      "'those' in data is 1\n",
      "'thought' in data is 1\n",
      "'thrown' in data is 1\n",
      "'to' in data is 3\n",
      "'too' in data is 1\n",
      "'try' in data is 2\n",
      "'up' in data is 1\n",
      "'usually' in data is 1\n",
      "'value' in data is 1\n",
      "'want' in data is 2\n",
      "'warrior' in data is 1\n",
      "'way' in data is 1\n",
      "'we' in data is 3\n",
      "'what' in data is 1\n",
      "'when' in data is 2\n",
      "'who' in data is 3\n",
      "'whole' in data is 1\n",
      "'will' in data is 2\n",
      "'with' in data is 4\n",
      "'you' in data is 3\n",
      "'your' in data is 1\n"
     ]
    }
   ],
   "source": [
    "data_lst2 = data.split()\n",
    "distinct_words2_count = [data_lst2.count(word) for word in distinct_words2]\n",
    "for index,item in enumerate(distinct_words2):\n",
    "    print(f\"'{item}' in data is {distinct_words2_count[index]}\")"
   ]
  }
 ],
 "metadata": {
  "kernelspec": {
   "display_name": "40daysPython_env",
   "language": "python",
   "name": "python3"
  },
  "language_info": {
   "codemirror_mode": {
    "name": "ipython",
    "version": 3
   },
   "file_extension": ".py",
   "mimetype": "text/x-python",
   "name": "python",
   "nbconvert_exporter": "python",
   "pygments_lexer": "ipython3",
   "version": "3.10.13"
  }
 },
 "nbformat": 4,
 "nbformat_minor": 2
}
