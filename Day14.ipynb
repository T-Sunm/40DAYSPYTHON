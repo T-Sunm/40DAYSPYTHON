{
 "cells": [
  {
   "cell_type": "code",
   "execution_count": null,
   "metadata": {},
   "outputs": [],
   "source": [
    "import numpy as np\n",
    "\n",
    "arr_1 = np.array([[1,2],[3,4]])\n",
    "\n",
    "# chuyển vị array\n",
    "# Cách 1: Sử dụng hàm np.transpose()\n",
    "arr_transposed_1 = np.transpose(arr_1)\n",
    "\n",
    "\n",
    "# Cách 2 : Sử dụng toán tử T\n",
    "arr_transposed_2 = arr_1.T\n",
    "\n",
    "# In  ra màn hình \n",
    "print(\"array 1: \\n\",arr_1)\n",
    "print(\"array 1 sau khi chuyển vị, cách 1: \\n\",arr_transposed_1)\n",
    "print(\"array 1 sau khi chuyển vị, cách 2: \\n\",arr_transposed_2)"
   ]
  },
  {
   "cell_type": "code",
   "execution_count": 6,
   "metadata": {},
   "outputs": [
    {
     "name": "stdout",
     "output_type": "stream",
     "text": [
      "array 1: \n",
      " [[1 2]\n",
      " [3 4]]\n",
      "array 1 sau khi chuyển vị, cách 1: \n",
      " tensor([[1, 3],\n",
      "        [2, 4]])\n",
      "array 1 sau khi chuyển vị, cách 2: \n",
      " tensor([[1, 3],\n",
      "        [2, 4]])\n"
     ]
    }
   ],
   "source": [
    "import torch\n",
    "\n",
    "# Tạo tensor 2d\n",
    "tensor_1 = torch.tensor([[1,2],\n",
    "                         [3,4]])\n",
    "\n",
    "# torch.transpose(input,dim0,dim1) với:\n",
    "# dim0,dim1:các chiều được chọn để chuyển vị \n",
    "tensor_transposed_1 = torch.transpose(tensor_1,0,1)\n",
    "\n",
    "tensor_transposed_2 = torch.t(tensor_1)\n",
    "\n",
    "print(\"tensor 1: \\n\",arr_1)\n",
    "print(\"tensor 1 sau khi chuyển vị, cách 1: \\n\",arr_transposed_1)\n",
    "print(\"tensor 1 sau khi chuyển vị, cách 2: \\n\",arr_transposed_2)"
   ]
  },
  {
   "cell_type": "code",
   "execution_count": 8,
   "metadata": {},
   "outputs": [
    {
     "name": "stdout",
     "output_type": "stream",
     "text": [
      "tensor 1: \n",
      " tf.Tensor(\n",
      "[[1 2]\n",
      " [3 4]], shape=(2, 2), dtype=int32)\n",
      "tensor 1 sau khi chuyển vị: \n",
      " tf.Tensor(\n",
      "[[1 3]\n",
      " [2 4]], shape=(2, 2), dtype=int32)\n"
     ]
    }
   ],
   "source": [
    "import tensorflow as tf\n",
    "\n",
    "tensor_1 = tf.constant([[1,2],\n",
    "                        [3,4]])\n",
    "\n",
    "#chuyển vị tensor\n",
    "tensor_transposed = tf.transpose(tensor_1)\n",
    "print(\"tensor 1: \\n\",tensor_1)\n",
    "print(\"tensor 1 sau khi chuyển vị: \\n\",tensor_transposed)"
   ]
  }
 ],
 "metadata": {
  "kernelspec": {
   "display_name": "40daysPython_env",
   "language": "python",
   "name": "python3"
  },
  "language_info": {
   "codemirror_mode": {
    "name": "ipython",
    "version": 3
   },
   "file_extension": ".py",
   "mimetype": "text/x-python",
   "name": "python",
   "nbconvert_exporter": "python",
   "pygments_lexer": "ipython3",
   "version": "3.10.13"
  }
 },
 "nbformat": 4,
 "nbformat_minor": 2
}
